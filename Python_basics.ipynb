{
  "nbformat": 4,
  "nbformat_minor": 0,
  "metadata": {
    "colab": {
      "provenance": []
    },
    "kernelspec": {
      "name": "python3",
      "display_name": "Python 3"
    },
    "language_info": {
      "name": "python"
    }
  },
  "cells": [
    {
      "cell_type": "markdown",
      "source": [
        "#THEORITICAL QUESTIONS#\n",
        "\n",
        "###1. What is Python, and why is it popular?\n",
        "Python is a programming language. It is a high-level, interpreted, and general-purpose programming language known for its simplicity and readability. It is used widely due to various reasons.\n",
        "- Easy-to-learn\n",
        "- Readable syntax\n",
        "- Versatile\n",
        "- Cross-platform\n",
        "- Extensive libraries\n",
        "- Dynamic typing\n",
        "- Rapid development\n",
        "- Large community\n",
        "\n",
        "###2. What is an interpreter in Python?\n",
        "An interpreter is like a real-time translator for Python code. It does not requires compilation. example - Imagine we are watching a live cricket match with commentary in English, but we only understand Hindi. The interpreter acts like a commentator translating each sentence immediately after hearing it — one sentence at a time.\n",
        "\n",
        "###3. What are pre-defined keywords in Python?\n",
        "Pre-defined keywords in Python are special reserved words that have specific meanings and purposes. Python uses these keywords to define its syntax and structure.\n",
        "- You cannot use them as variable names, function names, or identifiers.\n",
        "- These keywords are case-sensitive\n",
        "\n",
        "###4. Can keywords be used as variable names?\n",
        "As these are reserved words, have special meaning and hence cannot be used as variable names. For example, in Python, keywords like if, else, while, class, etc., are off-limits for variable naming.\n",
        "\n",
        "###5. What is mutability in Python?\n",
        "It refers to whether a data type can be changed after creation. Lists are mutable (can be modified), while tuples and strings are immutable (cannot be changed).\n",
        "\n",
        "###6. Why are lists mutable, but tuples immutable?\n",
        "Lists are designed for data that needs to change, while tuples are for fixed data.\n",
        "\n",
        "###7. What is the difference between “==” and “is” operators in Python?\n",
        " \"==\" checks if two values are equal, while \"is\" checks if two variables refer to the same memory location.\n",
        "\n",
        "###8. What are logical operators in Python?\n",
        "\"and\", \"or\", and \"not\" are logical operators.\n",
        "- and - Logical AND eg: True and True -> True, True and False -> False, False and True -> False, False and False -> False\n",
        "- or - Logical OR eg: True or True -> True, True or False -> True, False or True -> True, False or False -> False\n",
        "- not - Logical NOT eg: not True -> False, not False ->\n",
        "\n",
        "###9. What is type casting in Python?\n",
        "It refers to converting one data type to another like changing string -> \"123\" to interger -> 123\n",
        "\n",
        "###10. What is the difference between implicit and explicit type casting?\n",
        "Implicit happens automatically (int(10+1.5) to float(11.5)). Explicit needs to be done manually using functions like int(), float(), etc.\n",
        "\n",
        "###11. What is the purpose of conditional statements in Python?\n",
        "It is the mechaisms that governs the order in which the statement and instructions are executed. This is crucial for implementing logic in our programs. It simply allows the program to make decisions based on conditions.\n",
        "\n",
        "###12. How does the elif statement work?\n",
        "It allows multiple conditions to be checked in an if-elif-else structure.\n",
        "\n",
        "###13. What is the difference between for and while loops?\n",
        "\"While\" loop is used when the number of iteraions is unknown that means it will repeatedly execute a block of code until a condition is met. \"For\" loop iterate over a sequence of elements, when we know how many times we need to iterate.\n",
        "\n",
        "###14. Describe a scenario where a while loop is more suitable than a for loop?\n",
        "A while loop is more suitable than a for loop when we don't know in advance how many times the loop should run and instead depend on a condition to stop the loop. Example: User Input Validation\n",
        "\n",
        "Imagine we are writing a program that asks the user to enter a positive number. If user enters a negative number, the program keeps asking until user enter a valid number.\n",
        "\n",
        "This is a case where we don't know how many attempts the user will take, so a while loop is a better choice than a for loop."
      ],
      "metadata": {
        "id": "aVeSAFNOIy1X"
      }
    },
    {
      "cell_type": "markdown",
      "source": [
        "#PRACTICAL QUESTIONS"
      ],
      "metadata": {
        "id": "Nxh1Z5ymGPM0"
      }
    },
    {
      "cell_type": "code",
      "source": [
        "#1. Write a Python program to print \"Hello, World!\"\n",
        "print(\"Hello, World!\")"
      ],
      "metadata": {
        "colab": {
          "base_uri": "https://localhost:8080/"
        },
        "id": "QnsJUQZcGR1-",
        "outputId": "18ac3960-746b-4f3e-828e-50658467b68f"
      },
      "execution_count": 1,
      "outputs": [
        {
          "output_type": "stream",
          "name": "stdout",
          "text": [
            "Hello, World!\n"
          ]
        }
      ]
    },
    {
      "cell_type": "code",
      "source": [
        "#2. Write a Python program that displays your name and age.\n",
        "name = \"Akshat Kumar\"\n",
        "age  = 22\n",
        "print(f\"My name is {name} and I am {age} years old\")"
      ],
      "metadata": {
        "colab": {
          "base_uri": "https://localhost:8080/"
        },
        "id": "lz5BOS-nGZCc",
        "outputId": "548d179e-5a38-4d35-c2cf-610edca8b996"
      },
      "execution_count": 2,
      "outputs": [
        {
          "output_type": "stream",
          "name": "stdout",
          "text": [
            "My name is Akshat Kumar and I am 22 years old\n"
          ]
        }
      ]
    },
    {
      "cell_type": "code",
      "source": [
        "#3. Write code to print all the pre-defined keywords in Python using the keyword library\n",
        "help(\"keywords\")"
      ],
      "metadata": {
        "colab": {
          "base_uri": "https://localhost:8080/"
        },
        "id": "0z5ft_s2G47C",
        "outputId": "1063461e-10ec-4956-806f-f2d6982df238"
      },
      "execution_count": 3,
      "outputs": [
        {
          "output_type": "stream",
          "name": "stdout",
          "text": [
            "\n",
            "Here is a list of the Python keywords.  Enter any keyword to get more help.\n",
            "\n",
            "False               class               from                or\n",
            "None                continue            global              pass\n",
            "True                def                 if                  raise\n",
            "and                 del                 import              return\n",
            "as                  elif                in                  try\n",
            "assert              else                is                  while\n",
            "async               except              lambda              with\n",
            "await               finally             nonlocal            yield\n",
            "break               for                 not                 \n",
            "\n"
          ]
        }
      ]
    },
    {
      "cell_type": "code",
      "source": [
        "#4. Write a program that checks if a given word is a Python keyword.\n",
        "import keyword\n",
        "word = \"for\"\n",
        "print(keyword.iskeyword(word))"
      ],
      "metadata": {
        "colab": {
          "base_uri": "https://localhost:8080/"
        },
        "id": "0XHgffQ4Hhaz",
        "outputId": "a70dce91-787c-4ba4-d4df-5aa8c206d40b"
      },
      "execution_count": 4,
      "outputs": [
        {
          "output_type": "stream",
          "name": "stdout",
          "text": [
            "True\n"
          ]
        }
      ]
    },
    {
      "cell_type": "code",
      "source": [
        "#5. Create a list and tuple in Python, and demonstrate how attempting to change an element works differently for each\n",
        "a_list = [1, 2, 3]\n",
        "b_tuple = (1, 2, 3)\n",
        "\n",
        "a_list[0] = 10  # Works, since lists are mutable\n",
        "print(a_list)\n",
        "\n",
        "# b_tuple[0] = 10  # This will give an error because tuples are immutable\n"
      ],
      "metadata": {
        "colab": {
          "base_uri": "https://localhost:8080/"
        },
        "id": "CcEtjvhnHwtK",
        "outputId": "846db57d-4571-47ac-f0ab-31e6e5e86945"
      },
      "execution_count": 5,
      "outputs": [
        {
          "output_type": "stream",
          "name": "stdout",
          "text": [
            "[10, 2, 3]\n"
          ]
        }
      ]
    },
    {
      "cell_type": "code",
      "source": [
        "#6. Write a function to demonstrate the behavior of mutable and immutable arguments.\n",
        "a = [1, \"akshat\", 3.5]\n",
        "b = 5\n",
        "a[2] = 9\n",
        "print(a)\n",
        "\n",
        "# b[0] = 2\n",
        "# print(b) >> it will not change"
      ],
      "metadata": {
        "colab": {
          "base_uri": "https://localhost:8080/"
        },
        "id": "MlZLpDwKItfb",
        "outputId": "11b212bc-d5c1-4538-e89d-1a2fd205c278"
      },
      "execution_count": 6,
      "outputs": [
        {
          "output_type": "stream",
          "name": "stdout",
          "text": [
            "[1, 'akshat', 9]\n"
          ]
        }
      ]
    },
    {
      "cell_type": "code",
      "source": [
        "#7. Write a program to demonstrate the use of logical operators.\n",
        "x = True\n",
        "y = False\n",
        "\n",
        "print(x and y)\n",
        "print(x or y3)\n",
        "print(not y)"
      ],
      "metadata": {
        "colab": {
          "base_uri": "https://localhost:8080/"
        },
        "id": "WuRgs6_aJS8E",
        "outputId": "26b215f3-8a31-4f3d-c1e6-b8a4f40eddb9"
      },
      "execution_count": 7,
      "outputs": [
        {
          "output_type": "stream",
          "name": "stdout",
          "text": [
            "False\n",
            "True\n",
            "True\n"
          ]
        }
      ]
    },
    {
      "cell_type": "code",
      "source": [
        "#8. Write a Python program to convert user input from string to integer, float, and boolean types.\n",
        "user_input = input(\"Enter a value: \")\n",
        "\n",
        "# Convert to integer\n",
        "print(int(user_input))\n",
        "\n",
        "# Convert to float\n",
        "print(float(user_input))\n",
        "\n",
        "# Convert to boolean\n",
        "print(bool(user_input))"
      ],
      "metadata": {
        "colab": {
          "base_uri": "https://localhost:8080/"
        },
        "id": "ldkmXV4PKLry",
        "outputId": "72e20c68-de7e-45a2-e964-268bd2691a9b"
      },
      "execution_count": 8,
      "outputs": [
        {
          "output_type": "stream",
          "name": "stdout",
          "text": [
            "Enter a value: 5\n",
            "5\n",
            "5.0\n",
            "True\n"
          ]
        }
      ]
    },
    {
      "cell_type": "code",
      "source": [
        "#9. Write code to demonstrate type casting with list elements\n",
        "my_list = [1, 2, 3]\n",
        "\n",
        "my_list[0] = str(my_list[0])\n",
        "print(my_list)"
      ],
      "metadata": {
        "colab": {
          "base_uri": "https://localhost:8080/"
        },
        "id": "Hp9OEMEOLCXj",
        "outputId": "5507e6d1-9609-4e46-86ca-fbd448dd1ac0"
      },
      "execution_count": 9,
      "outputs": [
        {
          "output_type": "stream",
          "name": "stdout",
          "text": [
            "['1', 2, 3]\n"
          ]
        }
      ]
    },
    {
      "cell_type": "code",
      "source": [
        "#10. Write a program that checks if a number is positive, negative, or zero.\n",
        "entered_number = int(input(\"Enter a number: \"))\n",
        "if entered_number > 0:\n",
        "  print(\"The number is positive\")\n",
        "elif entered_number < 0:\n",
        "  print(\"The number is negative\")\n",
        "else:\n",
        "  print(\"The number is zero\")"
      ],
      "metadata": {
        "colab": {
          "base_uri": "https://localhost:8080/"
        },
        "id": "H8WSPYDTLY0q",
        "outputId": "2c615264-372e-4cb6-bc90-4a015b660fc0"
      },
      "execution_count": 10,
      "outputs": [
        {
          "output_type": "stream",
          "name": "stdout",
          "text": [
            "Enter a number: 55\n",
            "The number is positive\n"
          ]
        }
      ]
    },
    {
      "cell_type": "code",
      "source": [
        "#11. Write a for loop to print numbers from 1 to 10\n",
        "for i in range(1,11):\n",
        "  print(i)"
      ],
      "metadata": {
        "colab": {
          "base_uri": "https://localhost:8080/"
        },
        "id": "28cPMuhALrEy",
        "outputId": "9a585262-d958-4e86-a390-031b524c2e0a"
      },
      "execution_count": 11,
      "outputs": [
        {
          "output_type": "stream",
          "name": "stdout",
          "text": [
            "1\n",
            "2\n",
            "3\n",
            "4\n",
            "5\n",
            "6\n",
            "7\n",
            "8\n",
            "9\n",
            "10\n"
          ]
        }
      ]
    },
    {
      "cell_type": "code",
      "source": [
        "#12. Write a Python program to find the sum of all even numbers between 1 and 50.\n",
        "sum = 0\n",
        "for i in range(1, 51):\n",
        "  if i % 2 == 0:\n",
        "    sum += i\n",
        "print(sum)"
      ],
      "metadata": {
        "colab": {
          "base_uri": "https://localhost:8080/"
        },
        "id": "VZKsAqQML1wq",
        "outputId": "c39f5a5d-aece-48d1-c14f-8e8b783cc042"
      },
      "execution_count": 12,
      "outputs": [
        {
          "output_type": "stream",
          "name": "stdout",
          "text": [
            "650\n"
          ]
        }
      ]
    },
    {
      "cell_type": "code",
      "source": [
        "#13. Write a program to reverse a string using a while loop.\n",
        "text = \"akshat\"\n",
        "reversed_text = \"\"\n",
        "i = len(text) - 1\n",
        "while i >= 0:\n",
        "  reversed_text += text[i]\n",
        "  i -= 1\n",
        "print(reversed_text)"
      ],
      "metadata": {
        "colab": {
          "base_uri": "https://localhost:8080/"
        },
        "id": "iOIUBJAHMi7C",
        "outputId": "192b8832-42d4-404c-b12f-de2ebaeb8fc9"
      },
      "execution_count": 13,
      "outputs": [
        {
          "output_type": "stream",
          "name": "stdout",
          "text": [
            "tahska\n"
          ]
        }
      ]
    },
    {
      "cell_type": "code",
      "source": [
        "#14. Write a Python program to calculate the factorial of a number provided by the user using a while loop.\n",
        "num = int(input(\"Enter a number: \"))\n",
        "factorial = 1\n",
        "while num > 1:\n",
        "    factorial *= num\n",
        "    num -= 1\n",
        "print(factorial)"
      ],
      "metadata": {
        "colab": {
          "base_uri": "https://localhost:8080/"
        },
        "id": "l2htS8l2O3fC",
        "outputId": "7806e5a6-7920-4741-c947-ad744bd2af50"
      },
      "execution_count": 14,
      "outputs": [
        {
          "output_type": "stream",
          "name": "stdout",
          "text": [
            "Enter a number: 5\n",
            "120\n"
          ]
        }
      ]
    }
  ]
}